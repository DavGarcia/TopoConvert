{
 "cells": [
  {
   "cell_type": "markdown",
   "metadata": {},
   "source": [
    "# Slope Analysis Demo\n",
    "\n",
    "This notebook demonstrates slope analysis capabilities of TopoConvert."
   ]
  },
  {
   "cell_type": "code",
   "execution_count": null,
   "metadata": {},
   "outputs": [],
   "source": [
    "import subprocess\n",
    "from pathlib import Path\n",
    "import matplotlib.pyplot as plt\n",
    "from PIL import Image\n",
    "\n",
    "# Set up paths\n",
    "data_dir = Path(\"../data\")\n",
    "output_dir = Path(\"../data/output\")\n",
    "output_dir.mkdir(exist_ok=True)"
   ]
  },
  {
   "cell_type": "markdown",
   "metadata": {},
   "source": [
    "## Generate Slope Heatmap\n",
    "\n",
    "Create a slope analysis heatmap from elevation data."
   ]
  },
  {
   "cell_type": "code",
   "execution_count": null,
   "metadata": {},
   "outputs": [],
   "source": [
    "# Generate slope heatmap in degrees\n",
    "result = subprocess.run([\n",
    "    \"topoconvert\", \"slope-heatmap\",\n",
    "    str(data_dir / \"sample.kml\"),\n",
    "    str(output_dir / \"slope_degrees.png\"),\n",
    "    \"--slope-units\", \"degrees\",\n",
    "    \"--resolution\", \"1.0\",\n",
    "    \"--colormap\", \"RdYlGn_r\"\n",
    "], capture_output=True, text=True)\n",
    "\n",
    "print(\"Output:\", result.stdout)\n",
    "if result.stderr:\n",
    "    print(\"Errors:\", result.stderr)"
   ]
  },
  {
   "cell_type": "markdown",
   "metadata": {},
   "source": [
    "## Compare Different Slope Units\n",
    "\n",
    "Generate slope maps using different units for comparison."
   ]
  },
  {
   "cell_type": "code",
   "execution_count": null,
   "metadata": {},
   "outputs": [],
   "source": [
    "# Generate slope maps with different units\n",
    "units = [\"degrees\", \"percent\", \"ratio\"]\n",
    "colormaps = [\"RdYlGn_r\", \"terrain\", \"viridis\"]\n",
    "\n",
    "for unit, cmap in zip(units, colormaps):\n",
    "    output_file = output_dir / f\"slope_{unit}.png\"\n",
    "    \n",
    "    result = subprocess.run([\n",
    "        \"topoconvert\", \"slope-heatmap\",\n",
    "        str(data_dir / \"sample.kml\"),\n",
    "        str(output_file),\n",
    "        \"--slope-units\", unit,\n",
    "        \"--resolution\", \"0.5\",\n",
    "        \"--colormap\", cmap\n",
    "    ], capture_output=True, text=True)\n",
    "    \n",
    "    print(f\"\\nGenerated slope map in {unit}\")\n",
    "    if result.stderr:\n",
    "        print(\"Errors:\", result.stderr)"
   ]
  },
  {
   "cell_type": "markdown",
   "metadata": {},
   "source": [
    "## Visualize Results\n",
    "\n",
    "Display the generated slope maps (if matplotlib and PIL are available)."
   ]
  },
  {
   "cell_type": "code",
   "execution_count": null,
   "metadata": {},
   "outputs": [],
   "source": [
    "# Try to display the images\n",
    "try:\n",
    "    fig, axes = plt.subplots(1, 3, figsize=(15, 5))\n",
    "    \n",
    "    for i, unit in enumerate(units):\n",
    "        img_path = output_dir / f\"slope_{unit}.png\"\n",
    "        if img_path.exists():\n",
    "            img = Image.open(img_path)\n",
    "            axes[i].imshow(img)\n",
    "            axes[i].set_title(f\"Slope in {unit}\")\n",
    "            axes[i].axis('off')\n",
    "    \n",
    "    plt.tight_layout()\n",
    "    plt.show()\n",
    "except Exception as e:\n",
    "    print(f\"Could not display images: {e}\")\n",
    "    print(\"\\nGenerated files:\")\n",
    "    for unit in units:\n",
    "        img_path = output_dir / f\"slope_{unit}.png\"\n",
    "        if img_path.exists():\n",
    "            print(f\"  - {img_path}\")"
   ]
  },
  {
   "cell_type": "markdown",
   "metadata": {},
   "source": [
    "## Generate Terrain Mesh\n",
    "\n",
    "Create a triangulated mesh for 3D visualization."
   ]
  },
  {
   "cell_type": "code",
   "execution_count": null,
   "metadata": {},
   "outputs": [],
   "source": [
    "# Generate Delaunay triangulation\n",
    "result = subprocess.run([\n",
    "    \"topoconvert\", \"kml-to-mesh\",\n",
    "    str(data_dir / \"sample.kml\"),\n",
    "    str(output_dir / \"terrain_mesh.dxf\"),\n",
    "    \"--mesh-type\", \"delaunay\"\n",
    "], capture_output=True, text=True)\n",
    "\n",
    "print(\"Delaunay mesh output:\", result.stdout)\n",
    "\n",
    "# Generate concave hull mesh\n",
    "result = subprocess.run([\n",
    "    \"topoconvert\", \"kml-to-mesh\",\n",
    "    str(data_dir / \"sample.kml\"),\n",
    "    str(output_dir / \"terrain_concave.dxf\"),\n",
    "    \"--mesh-type\", \"concave\",\n",
    "    \"--alpha\", \"0.5\"\n",
    "], capture_output=True, text=True)\n",
    "\n",
    "print(\"\\nConcave hull output:\", result.stdout)"
   ]
  },
  {
   "cell_type": "markdown",
   "metadata": {},
   "source": [
    "## Summary\n",
    "\n",
    "This demo showed how to:\n",
    "1. Generate slope analysis heatmaps\n",
    "2. Compare different slope unit representations\n",
    "3. Create terrain meshes for 3D visualization\n",
    "\n",
    "The generated files can be used in GIS software or CAD applications for further analysis."
   ]
  }
 ],
 "metadata": {
  "kernelspec": {
   "display_name": "Python 3",
   "language": "python",
   "name": "python3"
  },
  "language_info": {
   "codemirror_mode": {
    "name": "ipython",
    "version": 3
   },
   "file_extension": ".py",
   "mimetype": "text/x-python",
   "name": "python",
   "nbconvert_exporter": "python",
   "pygments_lexer": "ipython3",
   "version": "3.8.0"
  }
 },
 "nbformat": 4,
 "nbformat_minor": 4
}