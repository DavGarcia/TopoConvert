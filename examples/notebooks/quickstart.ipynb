{
 "cells": [
  {
   "cell_type": "markdown",
   "metadata": {},
   "source": [
    "# TopoConvert Quick Start\n",
    "\n",
    "This notebook demonstrates basic usage of TopoConvert for geospatial data conversion."
   ]
  },
  {
   "cell_type": "markdown",
   "metadata": {},
   "source": [
    "## Setup\n",
    "\n",
    "First, ensure TopoConvert is installed:\n",
    "\n",
    "```bash\n",
    "pip install -e ../..\n",
    "```"
   ]
  },
  {
   "cell_type": "code",
   "execution_count": null,
   "metadata": {},
   "outputs": [],
   "source": [
    "import subprocess\n",
    "import os\n",
    "from pathlib import Path\n",
    "\n",
    "# Set up paths\n",
    "data_dir = Path(\"../data\")\n",
    "output_dir = Path(\"../data/output\")\n",
    "output_dir.mkdir(exist_ok=True)"
   ]
  },
  {
   "cell_type": "markdown",
   "metadata": {},
   "source": [
    "## Example 1: Convert CSV to KML\n",
    "\n",
    "Convert survey points from CSV format to KML for visualization in Google Earth."
   ]
  },
  {
   "cell_type": "code",
   "execution_count": null,
   "metadata": {},
   "outputs": [],
   "source": [
    "# Convert CSV to KML\n",
    "result = subprocess.run([\n",
    "    \"topoconvert\", \"csv-to-kml\",\n",
    "    str(data_dir / \"sample.csv\"),\n",
    "    str(output_dir / \"points_from_csv.kml\"),\n",
    "    \"--add-labels\"\n",
    "], capture_output=True, text=True)\n",
    "\n",
    "print(\"Output:\", result.stdout)\n",
    "if result.stderr:\n",
    "    print(\"Errors:\", result.stderr)"
   ]
  },
  {
   "cell_type": "markdown",
   "metadata": {},
   "source": [
    "## Example 2: Generate Contours\n",
    "\n",
    "Create contour lines from elevation points."
   ]
  },
  {
   "cell_type": "code",
   "execution_count": null,
   "metadata": {},
   "outputs": [],
   "source": [
    "# Generate contours with 1m interval\n",
    "result = subprocess.run([\n",
    "    \"topoconvert\", \"kml-to-contours\",\n",
    "    str(data_dir / \"sample.kml\"),\n",
    "    str(output_dir / \"contours.dxf\"),\n",
    "    \"--interval\", \"1.0\",\n",
    "    \"--label\"\n",
    "], capture_output=True, text=True)\n",
    "\n",
    "print(\"Output:\", result.stdout)\n",
    "if result.stderr:\n",
    "    print(\"Errors:\", result.stderr)"
   ]
  },
  {
   "cell_type": "markdown",
   "metadata": {},
   "source": [
    "## Example 3: Extract Points from KML\n",
    "\n",
    "Extract point data from a KML file to various formats."
   ]
  },
  {
   "cell_type": "code",
   "execution_count": null,
   "metadata": {},
   "outputs": [],
   "source": [
    "# Extract to CSV\n",
    "result = subprocess.run([\n",
    "    \"topoconvert\", \"kml-to-points\",\n",
    "    str(data_dir / \"sample.kml\"),\n",
    "    str(output_dir / \"extracted_points.csv\"),\n",
    "    \"--format\", \"csv\"\n",
    "], capture_output=True, text=True)\n",
    "\n",
    "print(\"Output:\", result.stdout)\n",
    "\n",
    "# Display the extracted data\n",
    "if (output_dir / \"extracted_points.csv\").exists():\n",
    "    with open(output_dir / \"extracted_points.csv\") as f:\n",
    "        print(\"\\nExtracted data:\")\n",
    "        print(f.read())"
   ]
  },
  {
   "cell_type": "markdown",
   "metadata": {},
   "source": [
    "## Example 4: Generate GPS Grid\n",
    "\n",
    "Create a grid for field survey planning."
   ]
  },
  {
   "cell_type": "code",
   "execution_count": null,
   "metadata": {},
   "outputs": [],
   "source": [
    "# Generate a 100m grid\n",
    "result = subprocess.run([\n",
    "    \"topoconvert\", \"gps-grid\",\n",
    "    str(output_dir / \"survey_grid.kml\"),\n",
    "    \"--bounds\", \"500000\", \"4000000\", \"501000\", \"4001000\",\n",
    "    \"--spacing\", \"100\",\n",
    "    \"--format\", \"kml\",\n",
    "    \"--label-format\", \"G{row}-{col}\"\n",
    "], capture_output=True, text=True)\n",
    "\n",
    "print(\"Output:\", result.stdout)\n",
    "if result.stderr:\n",
    "    print(\"Errors:\", result.stderr)"
   ]
  },
  {
   "cell_type": "markdown",
   "metadata": {},
   "source": [
    "## Cleanup\n",
    "\n",
    "List all generated files:"
   ]
  },
  {
   "cell_type": "code",
   "execution_count": null,
   "metadata": {},
   "outputs": [],
   "source": [
    "print(\"Generated files:\")\n",
    "for file in sorted(output_dir.glob(\"*\")):\n",
    "    print(f\"  - {file.name}\")"
   ]
  }
 ],
 "metadata": {
  "kernelspec": {
   "display_name": "Python 3",
   "language": "python",
   "name": "python3"
  },
  "language_info": {
   "codemirror_mode": {
    "name": "ipython",
    "version": 3
   },
   "file_extension": ".py",
   "mimetype": "text/x-python",
   "name": "python",
   "nbconvert_exporter": "python",
   "pygments_lexer": "ipython3",
   "version": "3.8.0"
  }
 },
 "nbformat": 4,
 "nbformat_minor": 4
}